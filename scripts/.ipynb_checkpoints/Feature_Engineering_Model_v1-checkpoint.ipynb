{
 "cells": [
  {
   "cell_type": "code",
   "execution_count": 1,
   "id": "5e473338",
   "metadata": {
    "ExecuteTime": {
     "end_time": "2024-11-20T04:35:55.291787Z",
     "start_time": "2024-11-20T04:35:54.451071Z"
    }
   },
   "outputs": [],
   "source": [
    "# Importing necessary libraries\n",
    "import pandas as pd\n",
    "import matplotlib.pyplot as plt\n",
    "import seaborn as sns\n",
    "from sklearn.preprocessing import MinMaxScaler"
   ]
  },
  {
   "cell_type": "code",
   "execution_count": 2,
   "id": "b7e91c75",
   "metadata": {
    "ExecuteTime": {
     "end_time": "2024-11-20T04:35:56.021270Z",
     "start_time": "2024-11-20T04:35:55.894175Z"
    }
   },
   "outputs": [],
   "source": [
    "# Load the dataset\n",
    "file_path = '/Users/shlokkamat/Documents/Documents - Shlok’s MacBook Pro/GitHub/NUS_Proj/SHAP/data/train.csv'\n",
    "data = pd.read_csv(file_path)"
   ]
  },
  {
   "cell_type": "code",
   "execution_count": 3,
   "id": "e66fcf91",
   "metadata": {
    "ExecuteTime": {
     "end_time": "2024-11-20T04:35:56.836130Z",
     "start_time": "2024-11-20T04:35:56.819892Z"
    }
   },
   "outputs": [],
   "source": [
    "# Data Cleaning: Drop irrelevant columns for analysis\n",
    "data_cleaned = data.drop(columns=[\"Unnamed: 0\", \"id\"])"
   ]
  },
  {
   "cell_type": "code",
   "execution_count": 4,
   "id": "4f50c176",
   "metadata": {
    "ExecuteTime": {
     "end_time": "2024-11-20T04:35:57.436365Z",
     "start_time": "2024-11-20T04:35:57.398379Z"
    }
   },
   "outputs": [],
   "source": [
    "# 1. Encoding Categorical Variables\n",
    "data_encoded = pd.get_dummies(data_cleaned, columns=[\"Gender\", \"Customer Type\", \"Type of Travel\", \"Class\"], drop_first=True)\n"
   ]
  },
  {
   "cell_type": "code",
   "execution_count": 5,
   "id": "71e1b8e3",
   "metadata": {
    "ExecuteTime": {
     "end_time": "2024-11-20T04:35:57.964290Z",
     "start_time": "2024-11-20T04:35:57.958212Z"
    }
   },
   "outputs": [],
   "source": [
    "# 2. Creating Interaction Features\n",
    "# Interaction between flight distance and delays\n",
    "data_encoded['Delay per Distance'] = (\n",
    "    (data_encoded['Departure Delay in Minutes'] + data_encoded['Arrival Delay in Minutes']) / \n",
    "    data_encoded['Flight Distance']\n",
    ").replace([float('inf'), -float('inf')], 0)  # Handle divisions by zero"
   ]
  },
  {
   "cell_type": "code",
   "execution_count": 6,
   "id": "8708a07e",
   "metadata": {
    "ExecuteTime": {
     "end_time": "2024-11-20T04:35:58.656467Z",
     "start_time": "2024-11-20T04:35:58.631534Z"
    }
   },
   "outputs": [],
   "source": [
    "scaler = MinMaxScaler()\n",
    "continuous_features = ['Age', 'Flight Distance', 'Departure Delay in Minutes', 'Arrival Delay in Minutes']\n",
    "data_encoded[continuous_features] = scaler.fit_transform(data_encoded[continuous_features])"
   ]
  },
  {
   "cell_type": "code",
   "execution_count": 7,
   "id": "9af79b96",
   "metadata": {
    "ExecuteTime": {
     "end_time": "2024-11-20T04:35:59.291566Z",
     "start_time": "2024-11-20T04:35:59.280601Z"
    }
   },
   "outputs": [],
   "source": [
    "# 4. Creating a Feature for Overall Service Quality\n",
    "# Aggregate service-related Likert scale ratings\n",
    "service_features = [\n",
    "    'Inflight wifi service', 'Departure/Arrival time convenient', 'Ease of Online booking',\n",
    "    'Gate location', 'Food and drink', 'Online boarding', 'Seat comfort',\n",
    "    'Inflight entertainment', 'On-board service', 'Leg room service',\n",
    "    'Baggage handling', 'Checkin service', 'Inflight service', 'Cleanliness'\n",
    "]\n",
    "data_encoded['Service Quality Score'] = data_encoded[service_features].mean(axis=1)"
   ]
  },
  {
   "cell_type": "code",
   "execution_count": 8,
   "id": "28480b9f",
   "metadata": {
    "ExecuteTime": {
     "end_time": "2024-11-20T04:36:00.072520Z",
     "start_time": "2024-11-20T04:36:00.061356Z"
    }
   },
   "outputs": [],
   "source": [
    "# 5. Dropping Redundant Features\n",
    "# Removing features that have been normalized or are part of new composite features\n",
    "data_encoded.drop(columns=service_features, inplace=True)"
   ]
  },
  {
   "cell_type": "code",
   "execution_count": 9,
   "id": "ca8fc02b",
   "metadata": {
    "ExecuteTime": {
     "end_time": "2024-11-20T04:36:00.657311Z",
     "start_time": "2024-11-20T04:36:00.645508Z"
    }
   },
   "outputs": [
    {
     "data": {
      "text/html": [
       "<div>\n",
       "<style scoped>\n",
       "    .dataframe tbody tr th:only-of-type {\n",
       "        vertical-align: middle;\n",
       "    }\n",
       "\n",
       "    .dataframe tbody tr th {\n",
       "        vertical-align: top;\n",
       "    }\n",
       "\n",
       "    .dataframe thead th {\n",
       "        text-align: right;\n",
       "    }\n",
       "</style>\n",
       "<table border=\"1\" class=\"dataframe\">\n",
       "  <thead>\n",
       "    <tr style=\"text-align: right;\">\n",
       "      <th></th>\n",
       "      <th>Age</th>\n",
       "      <th>Flight Distance</th>\n",
       "      <th>Departure Delay in Minutes</th>\n",
       "      <th>Arrival Delay in Minutes</th>\n",
       "      <th>satisfaction</th>\n",
       "      <th>Gender_Male</th>\n",
       "      <th>Customer Type_disloyal Customer</th>\n",
       "      <th>Type of Travel_Personal Travel</th>\n",
       "      <th>Class_Eco</th>\n",
       "      <th>Class_Eco Plus</th>\n",
       "      <th>Delay per Distance</th>\n",
       "      <th>Service Quality Score</th>\n",
       "    </tr>\n",
       "  </thead>\n",
       "  <tbody>\n",
       "    <tr>\n",
       "      <th>0</th>\n",
       "      <td>0.076923</td>\n",
       "      <td>0.086632</td>\n",
       "      <td>0.015704</td>\n",
       "      <td>0.011364</td>\n",
       "      <td>neutral or dissatisfied</td>\n",
       "      <td>1</td>\n",
       "      <td>0</td>\n",
       "      <td>1</td>\n",
       "      <td>0</td>\n",
       "      <td>1</td>\n",
       "      <td>0.093478</td>\n",
       "      <td>3.857143</td>\n",
       "    </tr>\n",
       "    <tr>\n",
       "      <th>1</th>\n",
       "      <td>0.230769</td>\n",
       "      <td>0.041195</td>\n",
       "      <td>0.000628</td>\n",
       "      <td>0.003788</td>\n",
       "      <td>neutral or dissatisfied</td>\n",
       "      <td>1</td>\n",
       "      <td>1</td>\n",
       "      <td>0</td>\n",
       "      <td>0</td>\n",
       "      <td>0</td>\n",
       "      <td>0.029787</td>\n",
       "      <td>2.285714</td>\n",
       "    </tr>\n",
       "    <tr>\n",
       "      <th>2</th>\n",
       "      <td>0.243590</td>\n",
       "      <td>0.224354</td>\n",
       "      <td>0.000000</td>\n",
       "      <td>0.000000</td>\n",
       "      <td>satisfied</td>\n",
       "      <td>0</td>\n",
       "      <td>0</td>\n",
       "      <td>0</td>\n",
       "      <td>0</td>\n",
       "      <td>0</td>\n",
       "      <td>0.000000</td>\n",
       "      <td>3.714286</td>\n",
       "    </tr>\n",
       "    <tr>\n",
       "      <th>3</th>\n",
       "      <td>0.230769</td>\n",
       "      <td>0.107229</td>\n",
       "      <td>0.006910</td>\n",
       "      <td>0.005682</td>\n",
       "      <td>neutral or dissatisfied</td>\n",
       "      <td>0</td>\n",
       "      <td>0</td>\n",
       "      <td>0</td>\n",
       "      <td>0</td>\n",
       "      <td>0</td>\n",
       "      <td>0.035587</td>\n",
       "      <td>3.000000</td>\n",
       "    </tr>\n",
       "    <tr>\n",
       "      <th>4</th>\n",
       "      <td>0.692308</td>\n",
       "      <td>0.036955</td>\n",
       "      <td>0.000000</td>\n",
       "      <td>0.000000</td>\n",
       "      <td>satisfied</td>\n",
       "      <td>1</td>\n",
       "      <td>0</td>\n",
       "      <td>0</td>\n",
       "      <td>0</td>\n",
       "      <td>0</td>\n",
       "      <td>0.000000</td>\n",
       "      <td>3.500000</td>\n",
       "    </tr>\n",
       "  </tbody>\n",
       "</table>\n",
       "</div>"
      ],
      "text/plain": [
       "        Age  Flight Distance  Departure Delay in Minutes  \\\n",
       "0  0.076923         0.086632                    0.015704   \n",
       "1  0.230769         0.041195                    0.000628   \n",
       "2  0.243590         0.224354                    0.000000   \n",
       "3  0.230769         0.107229                    0.006910   \n",
       "4  0.692308         0.036955                    0.000000   \n",
       "\n",
       "   Arrival Delay in Minutes             satisfaction  Gender_Male  \\\n",
       "0                  0.011364  neutral or dissatisfied            1   \n",
       "1                  0.003788  neutral or dissatisfied            1   \n",
       "2                  0.000000                satisfied            0   \n",
       "3                  0.005682  neutral or dissatisfied            0   \n",
       "4                  0.000000                satisfied            1   \n",
       "\n",
       "   Customer Type_disloyal Customer  Type of Travel_Personal Travel  Class_Eco  \\\n",
       "0                                0                               1          0   \n",
       "1                                1                               0          0   \n",
       "2                                0                               0          0   \n",
       "3                                0                               0          0   \n",
       "4                                0                               0          0   \n",
       "\n",
       "   Class_Eco Plus  Delay per Distance  Service Quality Score  \n",
       "0               1            0.093478               3.857143  \n",
       "1               0            0.029787               2.285714  \n",
       "2               0            0.000000               3.714286  \n",
       "3               0            0.035587               3.000000  \n",
       "4               0            0.000000               3.500000  "
      ]
     },
     "execution_count": 9,
     "metadata": {},
     "output_type": "execute_result"
    }
   ],
   "source": [
    "# Display the first few rows of the updated dataset\n",
    "# tools.display_dataframe_to_user(name=\"Processed Dataset Without Upsampling\", dataframe=data_encoded)\n",
    "data_encoded.head()"
   ]
  },
  {
   "cell_type": "code",
   "execution_count": 13,
   "id": "868f2b56",
   "metadata": {
    "ExecuteTime": {
     "end_time": "2024-11-20T04:36:36.865004Z",
     "start_time": "2024-11-20T04:36:36.820681Z"
    }
   },
   "outputs": [
    {
     "data": {
      "text/plain": [
       "{'X_train shape': (72732, 11),\n",
       " 'X_val shape': (15586, 11),\n",
       " 'X_test shape': (15586, 11),\n",
       " 'y_train shape': (72732,),\n",
       " 'y_val shape': (15586,),\n",
       " 'y_test shape': (15586,)}"
      ]
     },
     "execution_count": 13,
     "metadata": {},
     "output_type": "execute_result"
    }
   ],
   "source": [
    "from sklearn.model_selection import train_test_split\n",
    "\n",
    "# Prepare features (X) and target (y)\n",
    "X = data_encoded.drop(columns=[\"satisfaction\"])\n",
    "y = data_encoded[\"satisfaction\"]\n",
    "\n",
    "# Encode the target variable\n",
    "y = y.map({\"neutral or dissatisfied\": 0, \"satisfied\": 1})\n",
    "\n",
    "\n",
    "# Split the dataset into training, validation, and testing sets\n",
    "X_train, X_temp, y_train, y_temp = train_test_split(X, y, test_size=0.3, random_state=42, stratify=y)\n",
    "X_val, X_test, y_val, y_test = train_test_split(X_temp, y_temp, test_size=0.5, random_state=42, stratify=y_temp)\n",
    "\n",
    "# Display shapes of the splits and their readiness for ML\n",
    "dataset_split_info = {\n",
    "    \"X_train shape\": X_train.shape,\n",
    "    \"X_val shape\": X_val.shape,\n",
    "    \"X_test shape\": X_test.shape,\n",
    "    \"y_train shape\": y_train.shape,\n",
    "    \"y_val shape\": y_val.shape,\n",
    "    \"y_test shape\": y_test.shape\n",
    "}\n",
    "\n",
    "#tools.display_dataframe_to_user(name=\"Validation Features\", dataframe=X_val)\n",
    "dataset_split_info\n"
   ]
  },
  {
   "cell_type": "code",
   "execution_count": 15,
   "id": "e78e3832",
   "metadata": {
    "ExecuteTime": {
     "end_time": "2024-11-20T04:36:53.633718Z",
     "start_time": "2024-11-20T04:36:47.345235Z"
    }
   },
   "outputs": [
    {
     "data": {
      "text/plain": [
       "{'Logistic Regression Accuracy': 0.8471063775182857,\n",
       " 'Random Forest Accuracy': 0.8523033491595021,\n",
       " 'Logistic Regression Report': '                      precision    recall  f1-score   support\\n\\nNeutral/Dissatisfied       0.86      0.88      0.87      8832\\n           Satisfied       0.84      0.81      0.82      6754\\n\\n            accuracy                           0.85     15586\\n           macro avg       0.85      0.84      0.84     15586\\n        weighted avg       0.85      0.85      0.85     15586\\n',\n",
       " 'Random Forest Report': '                      precision    recall  f1-score   support\\n\\nNeutral/Dissatisfied       0.85      0.90      0.87      8832\\n           Satisfied       0.86      0.78      0.82      6754\\n\\n            accuracy                           0.85     15586\\n           macro avg       0.85      0.84      0.85     15586\\n        weighted avg       0.85      0.85      0.85     15586\\n'}"
      ]
     },
     "execution_count": 15,
     "metadata": {},
     "output_type": "execute_result"
    }
   ],
   "source": [
    "from sklearn.impute import SimpleImputer\n",
    "\n",
    "# Handle missing values in features\n",
    "imputer = SimpleImputer(strategy=\"median\")\n",
    "X_train_imputed = imputer.fit_transform(X_train)\n",
    "X_val_imputed = imputer.transform(X_val)\n",
    "X_test_imputed = imputer.transform(X_test)\n",
    "\n",
    "# Re-train Logistic Regression (Glass Box Model)\n",
    "logreg = LogisticRegression(max_iter=1000, random_state=42)\n",
    "logreg.fit(X_train_imputed, y_train)\n",
    "y_val_pred_logreg = logreg.predict(X_val_imputed)\n",
    "\n",
    "# Re-train Random Forest Classifier (Black Box Model)\n",
    "rf = RandomForestClassifier(n_estimators=100, random_state=42)\n",
    "rf.fit(X_train_imputed, y_train)\n",
    "y_val_pred_rf = rf.predict(X_val_imputed)\n",
    "\n",
    "# Re-evaluate Models\n",
    "logreg_report = classification_report(y_val, y_val_pred_logreg, target_names=[\"Neutral/Dissatisfied\", \"Satisfied\"])\n",
    "rf_report = classification_report(y_val, y_val_pred_rf, target_names=[\"Neutral/Dissatisfied\", \"Satisfied\"])\n",
    "\n",
    "logreg_accuracy = accuracy_score(y_val, y_val_pred_logreg)\n",
    "rf_accuracy = accuracy_score(y_val, y_val_pred_rf)\n",
    "\n",
    "# Updated results\n",
    "updated_model_results = {\n",
    "    \"Logistic Regression Accuracy\": logreg_accuracy,\n",
    "    \"Random Forest Accuracy\": rf_accuracy,\n",
    "    \"Logistic Regression Report\": logreg_report,\n",
    "    \"Random Forest Report\": rf_report\n",
    "}\n",
    "\n",
    "updated_model_results\n"
   ]
  },
  {
   "cell_type": "code",
   "execution_count": 16,
   "id": "d0c79421",
   "metadata": {
    "ExecuteTime": {
     "end_time": "2024-11-20T04:37:05.865638Z",
     "start_time": "2024-11-20T04:37:05.525098Z"
    }
   },
   "outputs": [
    {
     "data": {
      "text/plain": [
       "{'Logistic Regression Test Accuracy': 0.8436417297574746,\n",
       " 'Random Forest Test Accuracy': 0.850955986141409,\n",
       " 'Logistic Regression Test Report': '                      precision    recall  f1-score   support\\n\\nNeutral/Dissatisfied       0.85      0.87      0.86      8832\\n           Satisfied       0.83      0.81      0.82      6754\\n\\n            accuracy                           0.84     15586\\n           macro avg       0.84      0.84      0.84     15586\\n        weighted avg       0.84      0.84      0.84     15586\\n',\n",
       " 'Random Forest Test Report': '                      precision    recall  f1-score   support\\n\\nNeutral/Dissatisfied       0.85      0.90      0.87      8832\\n           Satisfied       0.86      0.79      0.82      6754\\n\\n            accuracy                           0.85     15586\\n           macro avg       0.85      0.84      0.85     15586\\n        weighted avg       0.85      0.85      0.85     15586\\n'}"
      ]
     },
     "execution_count": 16,
     "metadata": {},
     "output_type": "execute_result"
    }
   ],
   "source": [
    "# Evaluate models on the test set\n",
    "y_test_pred_logreg = logreg.predict(X_test_imputed)\n",
    "y_test_pred_rf = rf.predict(X_test_imputed)\n",
    "\n",
    "# Generate classification reports for the test set\n",
    "logreg_test_report = classification_report(y_test, y_test_pred_logreg, target_names=[\"Neutral/Dissatisfied\", \"Satisfied\"])\n",
    "rf_test_report = classification_report(y_test, y_test_pred_rf, target_names=[\"Neutral/Dissatisfied\", \"Satisfied\"])\n",
    "\n",
    "# Calculate test set accuracy\n",
    "logreg_test_accuracy = accuracy_score(y_test, y_test_pred_logreg)\n",
    "rf_test_accuracy = accuracy_score(y_test, y_test_pred_rf)\n",
    "\n",
    "# Organize the results\n",
    "test_set_results = {\n",
    "    \"Logistic Regression Test Accuracy\": logreg_test_accuracy,\n",
    "    \"Random Forest Test Accuracy\": rf_test_accuracy,\n",
    "    \"Logistic Regression Test Report\": logreg_test_report,\n",
    "    \"Random Forest Test Report\": rf_test_report\n",
    "}\n",
    "\n",
    "test_set_results\n"
   ]
  },
  {
   "cell_type": "code",
   "execution_count": null,
   "id": "7f01c250",
   "metadata": {},
   "outputs": [],
   "source": []
  }
 ],
 "metadata": {
  "kernelspec": {
   "display_name": "Python 3 (ipykernel)",
   "language": "python",
   "name": "python3"
  },
  "language_info": {
   "codemirror_mode": {
    "name": "ipython",
    "version": 3
   },
   "file_extension": ".py",
   "mimetype": "text/x-python",
   "name": "python",
   "nbconvert_exporter": "python",
   "pygments_lexer": "ipython3",
   "version": "3.11.1"
  }
 },
 "nbformat": 4,
 "nbformat_minor": 5
}
