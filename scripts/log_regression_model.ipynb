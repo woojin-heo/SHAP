{
 "cells": [
  {
   "cell_type": "code",
   "execution_count": 1,
   "id": "ae0b4bcd",
   "metadata": {
    "ExecuteTime": {
     "end_time": "2024-11-21T10:33:18.262919Z",
     "start_time": "2024-11-21T10:33:17.227793Z"
    }
   },
   "outputs": [],
   "source": [
    "# Importing necessary libraries\n",
    "import pandas as pd\n",
    "import matplotlib.pyplot as plt\n",
    "import seaborn as sns"
   ]
  },
  {
   "cell_type": "code",
   "execution_count": 2,
   "id": "b0f7aebc",
   "metadata": {
    "ExecuteTime": {
     "end_time": "2024-11-21T10:33:19.064477Z",
     "start_time": "2024-11-21T10:33:18.923905Z"
    }
   },
   "outputs": [],
   "source": [
    "# Load the dataset\n",
    "file_path = '/Users/shlokkamat/Documents/Documents - Shlok’s MacBook Pro/GitHub/NUS_Proj/SHAP/data/train.csv'\n",
    "data = pd.read_csv(file_path)"
   ]
  },
  {
   "cell_type": "code",
   "execution_count": 4,
   "id": "3057c09f",
   "metadata": {
    "ExecuteTime": {
     "end_time": "2024-11-21T10:33:53.453400Z",
     "start_time": "2024-11-21T10:33:53.447038Z"
    }
   },
   "outputs": [
    {
     "data": {
      "text/plain": [
       "Index(['Unnamed: 0', 'id', 'Gender', 'Customer Type', 'Age', 'Type of Travel',\n",
       "       'Class', 'Flight Distance', 'Inflight wifi service',\n",
       "       'Departure/Arrival time convenient', 'Ease of Online booking',\n",
       "       'Gate location', 'Food and drink', 'Online boarding', 'Seat comfort',\n",
       "       'Inflight entertainment', 'On-board service', 'Leg room service',\n",
       "       'Baggage handling', 'Checkin service', 'Inflight service',\n",
       "       'Cleanliness', 'Departure Delay in Minutes', 'Arrival Delay in Minutes',\n",
       "       'satisfaction'],\n",
       "      dtype='object')"
      ]
     },
     "execution_count": 4,
     "metadata": {},
     "output_type": "execute_result"
    }
   ],
   "source": [
    "data.columns"
   ]
  },
  {
   "cell_type": "code",
   "execution_count": 6,
   "id": "fe764263",
   "metadata": {
    "ExecuteTime": {
     "end_time": "2024-11-21T10:34:16.676780Z",
     "start_time": "2024-11-21T10:34:16.347815Z"
    }
   },
   "outputs": [
    {
     "name": "stdout",
     "output_type": "stream",
     "text": [
      "                         precision    recall  f1-score   support\n",
      "\n",
      "Neutral or Dissatisfied       0.88      0.90      0.89     11776\n",
      "              Satisfied       0.87      0.84      0.86      9005\n",
      "\n",
      "               accuracy                           0.88     20781\n",
      "              macro avg       0.88      0.87      0.87     20781\n",
      "           weighted avg       0.88      0.88      0.88     20781\n",
      "\n"
     ]
    }
   ],
   "source": [
    "import pandas as pd\n",
    "from sklearn.model_selection import train_test_split\n",
    "from sklearn.preprocessing import LabelEncoder, StandardScaler\n",
    "from sklearn.linear_model import LogisticRegression\n",
    "from sklearn.metrics import classification_report\n",
    "\n",
    "# # Load the data\n",
    "# file_path = 'train.csv'  # Replace with the correct file path\n",
    "# data = pd.read_csv(file_path)\n",
    "\n",
    "# Dropping unnecessary columns (e.g., Unnamed: 0, id)\n",
    "data_cleaned = data.drop(columns=['Unnamed: 0', 'id', 'Arrival Delay in Minutes'])\n",
    "\n",
    "# Encode the target variable 'satisfaction' as binary\n",
    "data_cleaned['satisfaction'] = LabelEncoder().fit_transform(data_cleaned['satisfaction'])\n",
    "\n",
    "# Separate features and target variable\n",
    "X = data_cleaned.drop(columns=['satisfaction'])\n",
    "y = data_cleaned['satisfaction']\n",
    "\n",
    "# Identify categorical columns\n",
    "categorical_columns = X.select_dtypes(include=['object']).columns\n",
    "\n",
    "# Encode categorical features using LabelEncoder\n",
    "for col in categorical_columns:\n",
    "    X[col] = LabelEncoder().fit_transform(X[col])\n",
    "\n",
    "# Standardize the numerical features\n",
    "scaler = StandardScaler()\n",
    "X[X.columns] = scaler.fit_transform(X)\n",
    "\n",
    "# Split the data into training and testing sets\n",
    "X_train, X_test, y_train, y_test = train_test_split(X, y, test_size=0.2, random_state=42, stratify=y)\n",
    "\n",
    "# Initialize and train the LogisticRegression model\n",
    "logistic_model = LogisticRegression(random_state=42, max_iter=1000)\n",
    "logistic_model.fit(X_train, y_train)\n",
    "\n",
    "# Predict on the test set\n",
    "y_pred = logistic_model.predict(X_test)\n",
    "\n",
    "# Evaluate the model\n",
    "report = classification_report(y_test, y_pred, target_names=['Neutral or Dissatisfied', 'Satisfied'])\n",
    "print(report)\n"
   ]
  },
  {
   "cell_type": "code",
   "execution_count": null,
   "id": "657b6cd5",
   "metadata": {},
   "outputs": [],
   "source": []
  }
 ],
 "metadata": {
  "kernelspec": {
   "display_name": "Python 3 (ipykernel)",
   "language": "python",
   "name": "python3"
  },
  "language_info": {
   "codemirror_mode": {
    "name": "ipython",
    "version": 3
   },
   "file_extension": ".py",
   "mimetype": "text/x-python",
   "name": "python",
   "nbconvert_exporter": "python",
   "pygments_lexer": "ipython3",
   "version": "3.11.1"
  }
 },
 "nbformat": 4,
 "nbformat_minor": 5
}
