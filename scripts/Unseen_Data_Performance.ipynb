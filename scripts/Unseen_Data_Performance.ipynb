{
 "cells": [
  {
   "cell_type": "code",
   "execution_count": 4,
   "id": "011a74a6",
   "metadata": {
    "ExecuteTime": {
     "end_time": "2024-11-20T04:34:45.562020Z",
     "start_time": "2024-11-20T04:34:35.337938Z"
    }
   },
   "outputs": [
    {
     "name": "stderr",
     "output_type": "stream",
     "text": [
      "/Library/Frameworks/Python.framework/Versions/3.11/lib/python3.11/site-packages/sklearn/linear_model/_logistic.py:458: ConvergenceWarning: lbfgs failed to converge (status=1):\n",
      "STOP: TOTAL NO. of ITERATIONS REACHED LIMIT.\n",
      "\n",
      "Increase the number of iterations (max_iter) or scale the data as shown in:\n",
      "    https://scikit-learn.org/stable/modules/preprocessing.html\n",
      "Please also refer to the documentation for alternative solver options:\n",
      "    https://scikit-learn.org/stable/modules/linear_model.html#logistic-regression\n",
      "  n_iter_i = _check_optimize_result(\n"
     ]
    },
    {
     "data": {
      "text/plain": [
       "{'Logistic Regression Accuracy': 0.5505851555281799,\n",
       " 'Random Forest Accuracy': 0.7946566060979365,\n",
       " 'Logistic Regression Report': '                      precision    recall  f1-score   support\\n\\nNeutral/Dissatisfied       0.89      0.23      0.36     14573\\n           Satisfied       0.49      0.96      0.65     11403\\n\\n            accuracy                           0.55     25976\\n           macro avg       0.69      0.60      0.51     25976\\n        weighted avg       0.72      0.55      0.49     25976\\n',\n",
       " 'Random Forest Report': '                      precision    recall  f1-score   support\\n\\nNeutral/Dissatisfied       0.96      0.66      0.78     14573\\n           Satisfied       0.69      0.97      0.80     11403\\n\\n            accuracy                           0.79     25976\\n           macro avg       0.83      0.81      0.79     25976\\n        weighted avg       0.84      0.79      0.79     25976\\n'}"
      ]
     },
     "execution_count": 4,
     "metadata": {},
     "output_type": "execute_result"
    }
   ],
   "source": [
    "# Re-import necessary libraries and retrain the models from scratch\n",
    "import pandas as pd\n",
    "from sklearn.ensemble import RandomForestClassifier\n",
    "from sklearn.linear_model import LogisticRegression\n",
    "from sklearn.model_selection import train_test_split\n",
    "from sklearn.metrics import classification_report, accuracy_score\n",
    "from sklearn.impute import SimpleImputer\n",
    "import joblib\n",
    "\n",
    "# Reload the original prepared dataset\n",
    "prepared_dataset_path = '/Users/shlokkamat/Documents/Documents - Shlok’s MacBook Pro/GitHub/NUS_Proj/SHAP/data/train.csv'\n",
    "data = pd.read_csv(prepared_dataset_path)\n",
    "\n",
    "# Target column transformation\n",
    "data['satisfaction'] = data['satisfaction'].map({\"neutral or dissatisfied\": 0, \"satisfied\": 1})\n",
    "\n",
    "# Prepare features and target\n",
    "X = data.drop(columns=[\"satisfaction\", \"Unnamed: 0\", \"id\"], errors='ignore')\n",
    "y = data[\"satisfaction\"]\n",
    "\n",
    "# Encode categorical features\n",
    "categorical_columns = ['Gender', 'Customer Type', 'Type of Travel', 'Class']\n",
    "X = pd.get_dummies(X, columns=categorical_columns, drop_first=True)\n",
    "\n",
    "# Split data into training and test sets\n",
    "X_train, X_temp, y_train, y_temp = train_test_split(X, y, test_size=0.3, random_state=42, stratify=y)\n",
    "X_val, X_test, y_val, y_test = train_test_split(X_temp, y_temp, test_size=0.5, random_state=42, stratify=y_temp)\n",
    "\n",
    "# Handle missing values using imputation\n",
    "imputer = SimpleImputer(strategy=\"median\")\n",
    "X_train_imputed = imputer.fit_transform(X_train)\n",
    "X_val_imputed = imputer.transform(X_val)\n",
    "X_test_imputed = imputer.transform(X_test)\n",
    "\n",
    "# Train Logistic Regression (Glass Box Model)\n",
    "logreg = LogisticRegression(max_iter=1000, random_state=42)\n",
    "logreg.fit(X_train_imputed, y_train)\n",
    "\n",
    "# Train Random Forest Classifier (Black Box Model)\n",
    "rf = RandomForestClassifier(n_estimators=100, random_state=42)\n",
    "rf.fit(X_train_imputed, y_train)\n",
    "\n",
    "# Save the models and imputer\n",
    "joblib.dump(logreg, 'logistic_regression_model.pkl')\n",
    "joblib.dump(rf, 'random_forest_model.pkl')\n",
    "joblib.dump(imputer, 'data_imputer.pkl')\n",
    "\n",
    "# Models retrained and saved successfully. Now evaluating unseen test data.\n",
    "\n",
    "# Reload the unseen test data\n",
    "unseen_test_data = pd.read_csv('/Users/shlokkamat/Documents/Documents - Shlok’s MacBook Pro/GitHub/NUS_Proj/SHAP/data/test.csv')\n",
    "\n",
    "# Extract ground truth labels if available (assumed target column is 'satisfaction')\n",
    "# Align unseen test data with the training dataset's feature columns\n",
    "required_columns = X_train.columns  # Retrieve feature names from the training dataset\n",
    "for col in required_columns:\n",
    "    if col not in unseen_test_data:\n",
    "        unseen_test_data[col] = 0  # Add missing columns with default values\n",
    "unseen_test_data = unseen_test_data[required_columns]\n",
    "\n",
    "# Impute missing values in unseen test data\n",
    "X_unseen = imputer.transform(unseen_test_data)\n",
    "\n",
    "# Make predictions using both models\n",
    "y_pred_logreg = logreg.predict(X_unseen)\n",
    "y_pred_rf = rf.predict(X_unseen)\n",
    "\n",
    "# Evaluate performance if ground truth is available\n",
    "if true_labels is not None:\n",
    "    logreg_report = classification_report(true_labels, y_pred_logreg, target_names=[\"Neutral/Dissatisfied\", \"Satisfied\"])\n",
    "    rf_report = classification_report(true_labels, y_pred_rf, target_names=[\"Neutral/Dissatisfied\", \"Satisfied\"])\n",
    "    logreg_accuracy = accuracy_score(true_labels, y_pred_logreg)\n",
    "    rf_accuracy = accuracy_score(true_labels, y_pred_rf)\n",
    "    \n",
    "    evaluation_results = {\n",
    "        \"Logistic Regression Accuracy\": logreg_accuracy,\n",
    "        \"Random Forest Accuracy\": rf_accuracy,\n",
    "        \"Logistic Regression Report\": logreg_report,\n",
    "        \"Random Forest Report\": rf_report\n",
    "    }\n",
    "else:\n",
    "    evaluation_results = {\n",
    "        \"Logistic Regression Predictions\": y_pred_logreg.tolist(),\n",
    "        \"Random Forest Predictions\": y_pred_rf.tolist()\n",
    "    }\n",
    "\n",
    "evaluation_results\n"
   ]
  },
  {
   "cell_type": "code",
   "execution_count": null,
   "id": "dd590128",
   "metadata": {},
   "outputs": [],
   "source": []
  }
 ],
 "metadata": {
  "kernelspec": {
   "display_name": "Python 3 (ipykernel)",
   "language": "python",
   "name": "python3"
  },
  "language_info": {
   "codemirror_mode": {
    "name": "ipython",
    "version": 3
   },
   "file_extension": ".py",
   "mimetype": "text/x-python",
   "name": "python",
   "nbconvert_exporter": "python",
   "pygments_lexer": "ipython3",
   "version": "3.11.1"
  }
 },
 "nbformat": 4,
 "nbformat_minor": 5
}
