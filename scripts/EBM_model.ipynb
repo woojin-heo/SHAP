{
 "cells": [
  {
   "cell_type": "code",
   "execution_count": 9,
   "id": "66e38a1d",
   "metadata": {
    "ExecuteTime": {
     "end_time": "2024-11-21T13:21:18.405828Z",
     "start_time": "2024-11-21T13:21:18.401269Z"
    }
   },
   "outputs": [],
   "source": [
    "from interpret.glassbox import ExplainableBoostingClassifier\n",
    "from sklearn.model_selection import train_test_split\n",
    "from sklearn.metrics import classification_report, accuracy_score\n",
    "from sklearn.preprocessing import LabelEncoder\n",
    "import pandas as pd"
   ]
  },
  {
   "cell_type": "code",
   "execution_count": 10,
   "id": "991aa1d1",
   "metadata": {
    "ExecuteTime": {
     "end_time": "2024-11-21T13:21:19.178499Z",
     "start_time": "2024-11-21T13:21:19.046102Z"
    }
   },
   "outputs": [],
   "source": [
    "# Load the dataset\n",
    "file_path = '/Users/shlokkamat/Documents/Documents - Shlok’s MacBook Pro/GitHub/NUS_Proj/SHAP/data/train.csv'\n",
    "data = pd.read_csv(file_path)"
   ]
  },
  {
   "cell_type": "code",
   "execution_count": 11,
   "id": "8ae11604",
   "metadata": {
    "ExecuteTime": {
     "end_time": "2024-11-21T13:21:19.907489Z",
     "start_time": "2024-11-21T13:21:19.803169Z"
    }
   },
   "outputs": [],
   "source": [
    "# Preprocess data\n",
    "data_cleaned = data.drop(columns=['Unnamed: 0', 'id'])\n",
    "data_cleaned['satisfaction'] = LabelEncoder().fit_transform(data_cleaned['satisfaction'])\n",
    "categorical_cols = ['Gender', 'Customer Type', 'Type of Travel', 'Class']\n",
    "data_cleaned = pd.get_dummies(data_cleaned, columns=categorical_cols, drop_first=True)\n",
    "data_cleaned['Arrival Delay in Minutes'] = data_cleaned['Arrival Delay in Minutes'].fillna(data_cleaned['Arrival Delay in Minutes'].median())\n",
    "\n",
    "X = data_cleaned.drop(columns=['satisfaction'])\n",
    "y = data_cleaned['satisfaction']\n",
    "\n",
    "X_train, X_test, y_train, y_test = train_test_split(X, y, test_size=0.2, random_state=42, stratify=y)"
   ]
  },
  {
   "cell_type": "code",
   "execution_count": 13,
   "id": "6c66347a",
   "metadata": {
    "ExecuteTime": {
     "end_time": "2024-11-21T13:26:32.161137Z",
     "start_time": "2024-11-21T13:23:57.571986Z"
    }
   },
   "outputs": [
    {
     "data": {
      "text/html": [
       "<style>#sk-container-id-1 {color: black;background-color: white;}#sk-container-id-1 pre{padding: 0;}#sk-container-id-1 div.sk-toggleable {background-color: white;}#sk-container-id-1 label.sk-toggleable__label {cursor: pointer;display: block;width: 100%;margin-bottom: 0;padding: 0.3em;box-sizing: border-box;text-align: center;}#sk-container-id-1 label.sk-toggleable__label-arrow:before {content: \"▸\";float: left;margin-right: 0.25em;color: #696969;}#sk-container-id-1 label.sk-toggleable__label-arrow:hover:before {color: black;}#sk-container-id-1 div.sk-estimator:hover label.sk-toggleable__label-arrow:before {color: black;}#sk-container-id-1 div.sk-toggleable__content {max-height: 0;max-width: 0;overflow: hidden;text-align: left;background-color: #f0f8ff;}#sk-container-id-1 div.sk-toggleable__content pre {margin: 0.2em;color: black;border-radius: 0.25em;background-color: #f0f8ff;}#sk-container-id-1 input.sk-toggleable__control:checked~div.sk-toggleable__content {max-height: 200px;max-width: 100%;overflow: auto;}#sk-container-id-1 input.sk-toggleable__control:checked~label.sk-toggleable__label-arrow:before {content: \"▾\";}#sk-container-id-1 div.sk-estimator input.sk-toggleable__control:checked~label.sk-toggleable__label {background-color: #d4ebff;}#sk-container-id-1 div.sk-label input.sk-toggleable__control:checked~label.sk-toggleable__label {background-color: #d4ebff;}#sk-container-id-1 input.sk-hidden--visually {border: 0;clip: rect(1px 1px 1px 1px);clip: rect(1px, 1px, 1px, 1px);height: 1px;margin: -1px;overflow: hidden;padding: 0;position: absolute;width: 1px;}#sk-container-id-1 div.sk-estimator {font-family: monospace;background-color: #f0f8ff;border: 1px dotted black;border-radius: 0.25em;box-sizing: border-box;margin-bottom: 0.5em;}#sk-container-id-1 div.sk-estimator:hover {background-color: #d4ebff;}#sk-container-id-1 div.sk-parallel-item::after {content: \"\";width: 100%;border-bottom: 1px solid gray;flex-grow: 1;}#sk-container-id-1 div.sk-label:hover label.sk-toggleable__label {background-color: #d4ebff;}#sk-container-id-1 div.sk-serial::before {content: \"\";position: absolute;border-left: 1px solid gray;box-sizing: border-box;top: 0;bottom: 0;left: 50%;z-index: 0;}#sk-container-id-1 div.sk-serial {display: flex;flex-direction: column;align-items: center;background-color: white;padding-right: 0.2em;padding-left: 0.2em;position: relative;}#sk-container-id-1 div.sk-item {position: relative;z-index: 1;}#sk-container-id-1 div.sk-parallel {display: flex;align-items: stretch;justify-content: center;background-color: white;position: relative;}#sk-container-id-1 div.sk-item::before, #sk-container-id-1 div.sk-parallel-item::before {content: \"\";position: absolute;border-left: 1px solid gray;box-sizing: border-box;top: 0;bottom: 0;left: 50%;z-index: -1;}#sk-container-id-1 div.sk-parallel-item {display: flex;flex-direction: column;z-index: 1;position: relative;background-color: white;}#sk-container-id-1 div.sk-parallel-item:first-child::after {align-self: flex-end;width: 50%;}#sk-container-id-1 div.sk-parallel-item:last-child::after {align-self: flex-start;width: 50%;}#sk-container-id-1 div.sk-parallel-item:only-child::after {width: 0;}#sk-container-id-1 div.sk-dashed-wrapped {border: 1px dashed gray;margin: 0 0.4em 0.5em 0.4em;box-sizing: border-box;padding-bottom: 0.4em;background-color: white;}#sk-container-id-1 div.sk-label label {font-family: monospace;font-weight: bold;display: inline-block;line-height: 1.2em;}#sk-container-id-1 div.sk-label-container {text-align: center;}#sk-container-id-1 div.sk-container {/* jupyter's `normalize.less` sets `[hidden] { display: none; }` but bootstrap.min.css set `[hidden] { display: none !important; }` so we also need the `!important` here to be able to override the default hidden behavior on the sphinx rendered scikit-learn.org. See: https://github.com/scikit-learn/scikit-learn/issues/21755 */display: inline-block !important;position: relative;}#sk-container-id-1 div.sk-text-repr-fallback {display: none;}</style><div id=\"sk-container-id-1\" class=\"sk-top-container\"><div class=\"sk-text-repr-fallback\"><pre>ExplainableBoostingClassifier()</pre><b>In a Jupyter environment, please rerun this cell to show the HTML representation or trust the notebook. <br />On GitHub, the HTML representation is unable to render, please try loading this page with nbviewer.org.</b></div><div class=\"sk-container\" hidden><div class=\"sk-item\"><div class=\"sk-estimator sk-toggleable\"><input class=\"sk-toggleable__control sk-hidden--visually\" id=\"sk-estimator-id-1\" type=\"checkbox\" checked><label for=\"sk-estimator-id-1\" class=\"sk-toggleable__label sk-toggleable__label-arrow\">ExplainableBoostingClassifier</label><div class=\"sk-toggleable__content\"><pre>ExplainableBoostingClassifier()</pre></div></div></div></div></div>"
      ],
      "text/plain": [
       "ExplainableBoostingClassifier()"
      ]
     },
     "execution_count": 13,
     "metadata": {},
     "output_type": "execute_result"
    }
   ],
   "source": [
    "# Train Explainable Boosting Machine\n",
    "ebm = ExplainableBoostingClassifier(random_state=42)\n",
    "ebm.fit(X_train, y_train)\n",
    "\n",
    "# # Make predictions\n",
    "# y_pred = ebm.predict(X_test)\n",
    "\n",
    "# # Evaluate the model\n",
    "# accuracy = accuracy_score(y_test, y_pred)\n",
    "# report = classification_report(y_test, y_pred)\n",
    "\n",
    "# print(\"Accuracy:\", accuracy)\n",
    "# print(\"Classification Report:\\n\", report)\n"
   ]
  },
  {
   "cell_type": "code",
   "execution_count": 15,
   "id": "6ae9f0d5",
   "metadata": {
    "ExecuteTime": {
     "end_time": "2024-11-21T13:29:07.341547Z",
     "start_time": "2024-11-21T13:29:07.291052Z"
    }
   },
   "outputs": [
    {
     "name": "stdout",
     "output_type": "stream",
     "text": [
      "Accuracy: 0.9521678456282181\n",
      "Classification Report:\n",
      "               precision    recall  f1-score   support\n",
      "\n",
      "           0       0.95      0.96      0.96     11776\n",
      "           1       0.95      0.94      0.94      9005\n",
      "\n",
      "    accuracy                           0.95     20781\n",
      "   macro avg       0.95      0.95      0.95     20781\n",
      "weighted avg       0.95      0.95      0.95     20781\n",
      "\n"
     ]
    }
   ],
   "source": [
    "# Make predictions\n",
    "y_pred = ebm.predict(X_test)\n",
    "\n",
    "# Evaluate the model\n",
    "accuracy = accuracy_score(y_test, y_pred)\n",
    "report = classification_report(y_test, y_pred)\n",
    "\n",
    "print(\"Accuracy:\", accuracy)\n",
    "print(\"Classification Report:\\n\", report)\n"
   ]
  },
  {
   "cell_type": "code",
   "execution_count": 14,
   "id": "b8b5a19d",
   "metadata": {
    "ExecuteTime": {
     "end_time": "2024-11-21T13:27:50.287714Z",
     "start_time": "2024-11-21T13:27:49.707887Z"
    }
   },
   "outputs": [
    {
     "data": {
      "text/html": [
       "<!-- http://127.0.0.1:7001/13063858704/ -->\n",
       "<iframe src=\"http://127.0.0.1:7001/13063858704/\" width=100% height=800 frameBorder=\"0\"></iframe>"
      ]
     },
     "metadata": {},
     "output_type": "display_data"
    }
   ],
   "source": [
    "from interpret import show\n",
    "\n",
    "ebm_global = ebm.explain_global()\n",
    "show(ebm_global)"
   ]
  },
  {
   "cell_type": "code",
   "execution_count": 18,
   "id": "ea00d2c1",
   "metadata": {
    "ExecuteTime": {
     "end_time": "2024-11-21T13:31:47.246568Z",
     "start_time": "2024-11-21T13:31:47.231740Z"
    }
   },
   "outputs": [
    {
     "data": {
      "text/html": [
       "<!-- http://127.0.0.1:7001/13131219088/ -->\n",
       "<iframe src=\"http://127.0.0.1:7001/13131219088/\" width=100% height=800 frameBorder=\"0\"></iframe>"
      ]
     },
     "metadata": {},
     "output_type": "display_data"
    }
   ],
   "source": [
    "show(ebm.explain_local(X_test[:5], y_test[:5]), 0)"
   ]
  },
  {
   "cell_type": "code",
   "execution_count": null,
   "id": "e928a90b",
   "metadata": {
    "ExecuteTime": {
     "start_time": "2024-11-21T13:40:15.142Z"
    }
   },
   "outputs": [
    {
     "name": "stdout",
     "output_type": "stream",
     "text": [
      "Fitting 3 folds for each of 64 candidates, totalling 192 fits\n"
     ]
    }
   ],
   "source": [
    "from sklearn.model_selection import GridSearchCV\n",
    "from interpret.glassbox import ExplainableBoostingClassifier\n",
    "\n",
    "# Define the parameter grid\n",
    "param_grid = {\n",
    "    'max_bins': [128, 255],                     # Number of bins for numerical features\n",
    "    'learning_rate': [0.01, 0.1],              # Learning rate for boosting\n",
    "    'min_samples_leaf': [2, 10],               # Minimum samples per leaf\n",
    "    'max_rounds': [200, 500],                  # Number of boosting rounds\n",
    "    'interactions': [10, 20],                  # Number of pairwise interactions\n",
    "    'max_interaction_bins': [32, 64]           # Maximum bins for interactions\n",
    "}\n",
    "\n",
    "# Create the EBM model\n",
    "ebm = ExplainableBoostingClassifier(random_state=42)\n",
    "\n",
    "# Perform Grid Search\n",
    "grid_search = GridSearchCV(\n",
    "    estimator=ebm,\n",
    "    param_grid=param_grid,\n",
    "    cv=3,                          # 3-fold cross-validation\n",
    "    scoring='accuracy',            # Optimize for accuracy\n",
    "    verbose=1,                     # Display progress\n",
    "    n_jobs=-1                      # Use all available CPU cores\n",
    ")\n",
    "grid_search.fit(X_train, y_train)\n",
    "\n",
    "# Output the best parameters and score\n",
    "print(\"Best Parameters:\", grid_search.best_params_)\n",
    "print(\"Best Cross-Validation Accuracy:\", grid_search.best_score_)\n"
   ]
  },
  {
   "cell_type": "code",
   "execution_count": null,
   "id": "e5908260",
   "metadata": {},
   "outputs": [],
   "source": []
  }
 ],
 "metadata": {
  "kernelspec": {
   "display_name": "Python 3 (ipykernel)",
   "language": "python",
   "name": "python3"
  },
  "language_info": {
   "codemirror_mode": {
    "name": "ipython",
    "version": 3
   },
   "file_extension": ".py",
   "mimetype": "text/x-python",
   "name": "python",
   "nbconvert_exporter": "python",
   "pygments_lexer": "ipython3",
   "version": "3.11.1"
  }
 },
 "nbformat": 4,
 "nbformat_minor": 5
}
